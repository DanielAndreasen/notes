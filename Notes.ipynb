{
 "metadata": {
  "name": "",
  "signature": "sha256:2dfae9ee1dae1baeb141e5e30a56b835f1f16a06872a7b09b8526bc8e8facc1e"
 },
 "nbformat": 3,
 "nbformat_minor": 0,
 "worksheets": []
}
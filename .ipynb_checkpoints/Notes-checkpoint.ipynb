{
 "metadata": {
  "name": "",
  "signature": "sha256:1029c480f448960c3ee5fb8b64a281f4bac718159d5d1f8403307ffbf7eec73f"
 },
 "nbformat": 3,
 "nbformat_minor": 0,
 "worksheets": [
  {
   "cells": [
    {
     "cell_type": "heading",
     "level": 1,
     "metadata": {},
     "source": [
      "Table of contents"
     ]
    },
    {
     "cell_type": "markdown",
     "metadata": {},
     "source": [
      "**1  Todo**\n",
      "\n",
      "**2  Obtaining the solar spectrum**\n",
      "\n",
      "      2.1 Data from vso.nso.edu\n",
      "      2.2 Data from BASS2000\n",
      "  \n",
      "**3 Obtaining the atomic line data**\n",
      "\n",
      "**4 Compiling the line list**"
     ]
    },
    {
     "cell_type": "heading",
     "level": 1,
     "metadata": {},
     "source": [
      "1 Todo"
     ]
    },
    {
     "cell_type": "markdown",
     "metadata": {},
     "source": [
      "   1. Make final line list with all relevant information\n",
      "   2. Recalibrate $\\log gf$ values for FeI and FeII"
     ]
    },
    {
     "cell_type": "heading",
     "level": 1,
     "metadata": {},
     "source": [
      "2 Obtaining the solar spectrum"
     ]
    },
    {
     "cell_type": "markdown",
     "metadata": {},
     "source": [
      "There were some problems with the data from vso.nso.edu. However, I show how to obtain it anyway for future reference."
     ]
    },
    {
     "cell_type": "heading",
     "level": 2,
     "metadata": {},
     "source": [
      "2.1 Data from vso.nso.edu"
     ]
    },
    {
     "cell_type": "markdown",
     "metadata": {},
     "source": [
      "This data were obtained from two webpages in order to cover the region of interest.\n",
      "   * ftp://vso.nso.edu/pub/atlas/photatl/\n",
      "   * ftp://vso.nso.edu/pub/atlas/niratl/\n",
      "\n",
      "Or even better via the terminal like this:\n",
      "```sh\n",
      "wget \u2212r \u2212 l 1 f t p : / / vso . nso . edu /pub/ a t l a s / p h o t a t l /\n",
      "wget \u2212r \u2212 l 1 f t p : / / vso . nso . edu /pub/ a t l a s / n i r a t l /\n",
      "```\n",
      "\n",
      "The files are then combined describes below."
     ]
    },
    {
     "cell_type": "heading",
     "level": 2,
     "metadata": {},
     "source": [
      "2.2 Data from BASS2000"
     ]
    },
    {
     "cell_type": "markdown",
     "metadata": {},
     "source": [
      "This is the data I am using. It is obtained here: http://bass2000.obspm.fr/solar_spect.php\n",
      "\n",
      "I use the highest resolution which is a long and tedious job, but it can be done! The files here are also combined to a final ASCII file, and three fits files\n",
      "\n",
      "   1: FITS similar to the ASCII file.\n",
      "   2: FITS with highest resolution on a regular grid for ARES.\n",
      "   3: FITS woth lower resolution on a regular grid for ARES. Highest resolution is not really necessary."
     ]
    },
    {
     "cell_type": "heading",
     "level": 1,
     "metadata": {},
     "source": [
      "3 Obtaining the atomic line data"
     ]
    },
    {
     "cell_type": "markdown",
     "metadata": {},
     "source": [
      "The atomic lines where obtained from the VALD database, http://vald.astro.univie.\n",
      "ac.at/~vald/php/vald.php. Here the mode *Extract element* were used.\n",
      "\n",
      "**Fe I:**\n",
      "   - Wavelength: 7300-54200\u00c5\n",
      "   - Elements: Fe 1\n",
      "   - Extraction format: Short\n",
      "   - Retrieve data via: FTP\n",
      "   - Configuration: Default\n",
      "\n",
      "**Fe II:** Same as above, except\n",
      "   - Element: Fe 2\n",
      "\n",
      "The downloaded files (.gz) where prepared for Python using the bash script VALDprepare.sh.\n",
      "For information how to use the script, see the source code."
     ]
    },
    {
     "cell_type": "heading",
     "level": 1,
     "metadata": {},
     "source": [
      "4 Compiling the line list"
     ]
    },
    {
     "cell_type": "markdown",
     "metadata": {},
     "source": [
      "The line list is compiled using several steps. Here I will only discuss FeI as the procedure for FeII is identical.\n",
      "\n",
      "   1. Use ARES with the medium resolution spectrum and the entire line list for FeI to measure EW\n",
      "   2. Sort the output from ARES by only using:\n",
      "       \n",
      "       2.1 #lines fitted for 1 line is less than 10 (not to blended)\n",
      "       \n",
      "       2.2 EW above 5 m\u00c5\n",
      "       \n",
      "       2.3 EW below 200m\u00c5\n",
      "       \n",
      "       2.4 Fitted central wavelength is less than 0.05\u00c5 away from the VALD wavelength\n",
      "   3. Manually select the lines in only J, H, and K bands from the already sorted list.\n",
      "   4. Put it all together, so in one file we have wavelength, excitation potential, $\\log gf$, and EW."
     ]
    },
    {
     "cell_type": "heading",
     "level": 2,
     "metadata": {},
     "source": [
      "4.1 Recalibrating the $\\log gf$ values"
     ]
    },
    {
     "cell_type": "markdown",
     "metadata": {},
     "source": [
      "In general it is dificult to measure/calculate $\\log gf$ values, therefore we need to recalibrate them. This is done in a very clever way.\n",
      "\n",
      "   1. Take a star we know very well (we use the Sun).\n",
      "   2. Use MOOG to determine abundance for one line at the time.\n",
      "   3. If the abundance does not match the reference abundance (7.47 for the Sun is used), then change the $\\log gf$ value\n",
      "   4. Iterate until we are close enough to the abundance.\n",
      "   \n",
      "This is of course done for all the lines."
     ]
    },
    {
     "cell_type": "heading",
     "level": 1,
     "metadata": {},
     "source": [
      "5 MOOG"
     ]
    },
    {
     "cell_type": "markdown",
     "metadata": {},
     "source": [
      ">MOOG is a code that performs a variety of LTE line analysis and spectrum\n",
      "> synthesis tasks. The typical use of MOOG is to assist in the determination of\n",
      "> the chemical composition of a star.\n",
      "\n",
      "More infor can be found at: http://www.as.utexas.edu/~chris/moog.html.\n",
      "\n",
      "I install MOOGSILENT using\n",
      "\n",
      "```sh\n",
      "sudo pip install MOOGSILENT\n",
      "```\n",
      "\n",
      "It is possible to install MOOG in the same way, but it is plotting with SuperMongo which I currently doesn't have installed (and don't want to) on my computer."
     ]
    },
    {
     "cell_type": "heading",
     "level": 2,
     "metadata": {},
     "source": [
      "5.1 Install MOOG 2010"
     ]
    },
    {
     "cell_type": "markdown",
     "metadata": {},
     "source": [
      "If one wants to install MOOG the hard way, here is how:\n",
      "\n",
      "   1. Edit Begin.f: \u2019pcl\u2019 for linux system and right path for the MOOG installation.\n",
      "   2. Edit Makefile.rh64: Write the right PATH\u2019s. For SuperMongo (sm) use /opt/sm/lib\n",
      "   3. Compile with: ```make -f Makefile.rh64```. Output is MOOG\n",
      "\n",
      "Remember that this requires SuperMongo to be installed (see below for notes on this)."
     ]
    },
    {
     "cell_type": "heading",
     "level": 2,
     "metadata": {},
     "source": [
      "5.2 Install MOOG 2013"
     ]
    },
    {
     "cell_type": "markdown",
     "metadata": {},
     "source": [
      "Same steps as above, but couldn't get it to work on LM14. Haven't tried since."
     ]
    },
    {
     "cell_type": "heading",
     "level": 2,
     "metadata": {},
     "source": [
      "5.3 Install SuperMongo (sm)"
     ]
    },
    {
     "cell_type": "markdown",
     "metadata": {},
     "source": [
      "To install sm simple follow the README file. It is suggested to install it in ```/opt/sm/```\n",
      "\n",
      "   1. ./set opts (nothing special here other than remember to type X11 when asked for).\n",
      "   2. Delete the first lines in the file ```src/options.h``` in other to compile\n",
      "   3. ```make; make install```"
     ]
    }
   ],
   "metadata": {}
  }
 ]
}